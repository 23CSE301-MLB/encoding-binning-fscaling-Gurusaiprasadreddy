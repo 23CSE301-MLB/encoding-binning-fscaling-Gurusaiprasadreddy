{
 "cells": [
  {
   "cell_type": "code",
   "execution_count": null,
   "id": "1be7b882",
   "metadata": {
    "vscode": {
     "languageId": "plaintext"
    }
   },
   "outputs": [],
   "source": [
    "import pandas as pd\n",
    "df=pd.read_csv('Y:/Machine Learning/Week_1/Datasets/titanic.csv')"
   ]
  },
  {
   "cell_type": "code",
   "execution_count": null,
   "id": "5c029305",
   "metadata": {
    "vscode": {
     "languageId": "plaintext"
    }
   },
   "outputs": [],
   "source": [
    "from sklearn.impute import SimpleImputer\n",
    "imputer = SimpleImputer(strategy='mean')\n",
    "data_imputed = imputer.fit_transform(df[['Age']])\n",
    "print(data_imputed)"
   ]
  },
  {
   "cell_type": "code",
   "execution_count": null,
   "id": "e4765137",
   "metadata": {
    "vscode": {
     "languageId": "plaintext"
    }
   },
   "outputs": [],
   "source": [
    "from sklearn.impute import KNNImputer\n",
    "imputer = KNNImputer(n_neighbors=8)\n",
    "data_imputed = imputer.fit_transform(df[['Age']])\n",
    "print(data_imputed)"
   ]
  },
  {
   "cell_type": "code",
   "execution_count": null,
   "id": "edff4fe4",
   "metadata": {
    "vscode": {
     "languageId": "plaintext"
    }
   },
   "outputs": [],
   "source": [
    "print(df.fillna(method='ffill', inplace=True))"
   ]
  },
  {
   "cell_type": "code",
   "execution_count": null,
   "id": "49affc9f",
   "metadata": {
    "vscode": {
     "languageId": "plaintext"
    }
   },
   "outputs": [],
   "source": [
    "print(df.fillna(method='bfill', inplace=True))"
   ]
  },
  {
   "cell_type": "code",
   "execution_count": null,
   "id": "cee17f9a",
   "metadata": {
    "vscode": {
     "languageId": "plaintext"
    }
   },
   "outputs": [],
   "source": [
    "df.dropna(inplace=True)\n",
    "df.dropna(inplace=True, axis=1)"
   ]
  },
  {
   "cell_type": "code",
   "execution_count": null,
   "id": "a2a33e6e",
   "metadata": {
    "vscode": {
     "languageId": "plaintext"
    }
   },
   "outputs": [],
   "source": [
    "from sklearn.preprocessing import MinMaxScaler\n",
    "scaler = MinMaxScaler()"
   ]
  },
  {
   "cell_type": "code",
   "execution_count": null,
   "id": "18053c45",
   "metadata": {
    "vscode": {
     "languageId": "plaintext"
    }
   },
   "outputs": [],
   "source": [
    "scaler = MinMaxScaler()\n",
    "scaled_data = scaler.fit_transform(df[['Age']])"
   ]
  },
  {
   "cell_type": "code",
   "execution_count": null,
   "id": "3a856d7f",
   "metadata": {
    "vscode": {
     "languageId": "plaintext"
    }
   },
   "outputs": [],
   "source": [
    "from sklearn.preprocessing import Normalizer\n",
    "normalizer = Normalizer(norm='l2')\n",
    "normalized_data = normalizer.fit_transform(df[['Age']])\n",
    "print(normalized_data)"
   ]
  },
  {
   "cell_type": "code",
   "execution_count": null,
   "id": "7306cfd0",
   "metadata": {
    "vscode": {
     "languageId": "plaintext"
    }
   },
   "outputs": [],
   "source": [
    "from sklearn.preprocessing import LabelEncoder\n",
    "le = LabelEncoder()\n",
    "df['PassengerId'] = le.fit_transform(df['PassengerId'])"
   ]
  },
  {
   "cell_type": "code",
   "execution_count": null,
   "id": "7dc86e09",
   "metadata": {
    "vscode": {
     "languageId": "plaintext"
    }
   },
   "outputs": [],
   "source": [
    "pd.get_dummies(df['Age'], prefix='Age')"
   ]
  },
  {
   "cell_type": "code",
   "execution_count": null,
   "id": "450ae883",
   "metadata": {
    "vscode": {
     "languageId": "plaintext"
    }
   },
   "outputs": [],
   "source": [
    "from sklearn.preprocessing import OrdinalEncoder\n",
    "encoder = OrdinalEncoder(categories=[['1', '2', '3']])\n",
    "df['Pclass_encoded'] = encoder.fit_transform(df[['Pclass']])"
   ]
  },
  {
   "cell_type": "code",
   "execution_count": null,
   "id": "7534b653",
   "metadata": {
    "vscode": {
     "languageId": "plaintext"
    }
   },
   "outputs": [],
   "source": [
    "age_data['age_bins_equal'] = pd.cut(age_data['age'], bins=4, labels=['Young', 'Adult', 'Middle-aged', 'Senior'])"
   ]
  },
  {
   "cell_type": "code",
   "execution_count": null,
   "id": "8d5bbe60",
   "metadata": {
    "vscode": {
     "languageId": "plaintext"
    }
   },
   "outputs": [],
   "source": [
    "age_data['age_bins_quantile'] = pd.qcut(age_data['age'], q=4, labels=['Q1', 'Q2', 'Q3', 'Q4'])"
   ]
  },
  {
   "cell_type": "code",
   "execution_count": null,
   "id": "9ffccc24",
   "metadata": {
    "vscode": {
     "languageId": "plaintext"
    }
   },
   "outputs": [],
   "source": [
    "custom_bins = [0, 30, 50, 70, 100]\n",
    "custom_labels = ['Youth', 'Young Adult', 'Middle Age', 'Senior']\n",
    "age_data['age_bins_custom'] = pd.cut(age_data['age'], bins=custom_bins, labels=custom_labels)"
   ]
  }
 ],
 "metadata": {
  "language_info": {
   "name": "python"
  }
 },
 "nbformat": 4,
 "nbformat_minor": 5
}
